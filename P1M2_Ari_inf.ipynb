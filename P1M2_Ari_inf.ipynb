{
 "cells": [
  {
   "cell_type": "markdown",
   "metadata": {},
   "source": [
    "# Milestone 2"
   ]
  },
  {
   "cell_type": "markdown",
   "metadata": {},
   "source": [
    "## i. Introduction\n",
    "\n",
    "**Nama**: Arindra Jehan\n",
    "\n",
    "**Batch**: HCK-015\n",
    "\n",
    "**Objective**: Notebook ini ditujukan untuk mengevaluasi model Classification menggunakan KNN yang telah dibuat, apakah model sudah dapat memprediksi apakah pasien terinfeksi penyakit AIDS atau tidak"
   ]
  },
  {
   "cell_type": "markdown",
   "metadata": {},
   "source": [
    "## ii. Libraries"
   ]
  },
  {
   "cell_type": "code",
   "execution_count": 5,
   "metadata": {},
   "outputs": [],
   "source": [
    "# # Library Dataframe\n",
    "import pandas as pd\n",
    "\n",
    "# Library Numerical Data\n",
    "import numpy as np\n",
    "\n",
    "# Library Model Saving\n",
    "import joblib\n",
    "\n",
    "# Library Random Data\n",
    "from scipy.stats import randint"
   ]
  },
  {
   "cell_type": "markdown",
   "metadata": {},
   "source": [
    "## iii. Data Inference"
   ]
  },
  {
   "cell_type": "markdown",
   "metadata": {},
   "source": [
    "### **Load Model**"
   ]
  },
  {
   "cell_type": "code",
   "execution_count": 3,
   "metadata": {},
   "outputs": [],
   "source": [
    "with open('knn_best_model_pipeline.joblib', 'rb') as file_1:\n",
    "  model_pipeline = joblib.load(file_1)"
   ]
  },
  {
   "cell_type": "markdown",
   "metadata": {},
   "source": [
    "### **Make Random Data**"
   ]
  },
  {
   "cell_type": "code",
   "execution_count": 6,
   "metadata": {},
   "outputs": [
    {
     "data": {
      "text/html": [
       "<div>\n",
       "<style scoped>\n",
       "    .dataframe tbody tr th:only-of-type {\n",
       "        vertical-align: middle;\n",
       "    }\n",
       "\n",
       "    .dataframe tbody tr th {\n",
       "        vertical-align: top;\n",
       "    }\n",
       "\n",
       "    .dataframe thead th {\n",
       "        text-align: right;\n",
       "    }\n",
       "</style>\n",
       "<table border=\"1\" class=\"dataframe\">\n",
       "  <thead>\n",
       "    <tr style=\"text-align: right;\">\n",
       "      <th></th>\n",
       "      <th>time</th>\n",
       "      <th>trt</th>\n",
       "      <th>age</th>\n",
       "      <th>wtkg</th>\n",
       "      <th>hemo</th>\n",
       "      <th>homo</th>\n",
       "      <th>drugs</th>\n",
       "      <th>karnof</th>\n",
       "      <th>oprior</th>\n",
       "      <th>z30</th>\n",
       "      <th>...</th>\n",
       "      <th>gender</th>\n",
       "      <th>str2</th>\n",
       "      <th>strat</th>\n",
       "      <th>symptom</th>\n",
       "      <th>treat</th>\n",
       "      <th>offtrt</th>\n",
       "      <th>cd40</th>\n",
       "      <th>cd420</th>\n",
       "      <th>cd80</th>\n",
       "      <th>cd820</th>\n",
       "    </tr>\n",
       "  </thead>\n",
       "  <tbody>\n",
       "    <tr>\n",
       "      <th>0</th>\n",
       "      <td>545</td>\n",
       "      <td>2</td>\n",
       "      <td>48</td>\n",
       "      <td>112</td>\n",
       "      <td>0</td>\n",
       "      <td>0</td>\n",
       "      <td>0</td>\n",
       "      <td>91</td>\n",
       "      <td>0</td>\n",
       "      <td>0</td>\n",
       "      <td>...</td>\n",
       "      <td>0</td>\n",
       "      <td>0</td>\n",
       "      <td>1</td>\n",
       "      <td>0</td>\n",
       "      <td>0</td>\n",
       "      <td>0</td>\n",
       "      <td>667</td>\n",
       "      <td>155</td>\n",
       "      <td>505</td>\n",
       "      <td>1627</td>\n",
       "    </tr>\n",
       "    <tr>\n",
       "      <th>1</th>\n",
       "      <td>1210</td>\n",
       "      <td>0</td>\n",
       "      <td>50</td>\n",
       "      <td>63</td>\n",
       "      <td>0</td>\n",
       "      <td>0</td>\n",
       "      <td>0</td>\n",
       "      <td>96</td>\n",
       "      <td>0</td>\n",
       "      <td>0</td>\n",
       "      <td>...</td>\n",
       "      <td>0</td>\n",
       "      <td>0</td>\n",
       "      <td>2</td>\n",
       "      <td>0</td>\n",
       "      <td>0</td>\n",
       "      <td>0</td>\n",
       "      <td>193</td>\n",
       "      <td>1018</td>\n",
       "      <td>2780</td>\n",
       "      <td>688</td>\n",
       "    </tr>\n",
       "    <tr>\n",
       "      <th>2</th>\n",
       "      <td>1048</td>\n",
       "      <td>2</td>\n",
       "      <td>23</td>\n",
       "      <td>129</td>\n",
       "      <td>0</td>\n",
       "      <td>0</td>\n",
       "      <td>0</td>\n",
       "      <td>84</td>\n",
       "      <td>0</td>\n",
       "      <td>0</td>\n",
       "      <td>...</td>\n",
       "      <td>0</td>\n",
       "      <td>0</td>\n",
       "      <td>1</td>\n",
       "      <td>0</td>\n",
       "      <td>0</td>\n",
       "      <td>0</td>\n",
       "      <td>565</td>\n",
       "      <td>187</td>\n",
       "      <td>2168</td>\n",
       "      <td>1413</td>\n",
       "    </tr>\n",
       "    <tr>\n",
       "      <th>3</th>\n",
       "      <td>329</td>\n",
       "      <td>1</td>\n",
       "      <td>35</td>\n",
       "      <td>100</td>\n",
       "      <td>0</td>\n",
       "      <td>0</td>\n",
       "      <td>0</td>\n",
       "      <td>78</td>\n",
       "      <td>0</td>\n",
       "      <td>0</td>\n",
       "      <td>...</td>\n",
       "      <td>0</td>\n",
       "      <td>0</td>\n",
       "      <td>1</td>\n",
       "      <td>0</td>\n",
       "      <td>0</td>\n",
       "      <td>0</td>\n",
       "      <td>521</td>\n",
       "      <td>155</td>\n",
       "      <td>2992</td>\n",
       "      <td>2951</td>\n",
       "    </tr>\n",
       "    <tr>\n",
       "      <th>4</th>\n",
       "      <td>738</td>\n",
       "      <td>0</td>\n",
       "      <td>49</td>\n",
       "      <td>95</td>\n",
       "      <td>0</td>\n",
       "      <td>0</td>\n",
       "      <td>0</td>\n",
       "      <td>95</td>\n",
       "      <td>0</td>\n",
       "      <td>0</td>\n",
       "      <td>...</td>\n",
       "      <td>0</td>\n",
       "      <td>0</td>\n",
       "      <td>2</td>\n",
       "      <td>0</td>\n",
       "      <td>0</td>\n",
       "      <td>0</td>\n",
       "      <td>353</td>\n",
       "      <td>924</td>\n",
       "      <td>3251</td>\n",
       "      <td>676</td>\n",
       "    </tr>\n",
       "  </tbody>\n",
       "</table>\n",
       "<p>5 rows × 22 columns</p>\n",
       "</div>"
      ],
      "text/plain": [
       "   time  trt  age  wtkg  hemo  homo  drugs  karnof  oprior  z30  ...  gender  \\\n",
       "0   545    2   48   112     0     0      0      91       0    0  ...       0   \n",
       "1  1210    0   50    63     0     0      0      96       0    0  ...       0   \n",
       "2  1048    2   23   129     0     0      0      84       0    0  ...       0   \n",
       "3   329    1   35   100     0     0      0      78       0    0  ...       0   \n",
       "4   738    0   49    95     0     0      0      95       0    0  ...       0   \n",
       "\n",
       "   str2  strat  symptom  treat  offtrt  cd40  cd420  cd80  cd820  \n",
       "0     0      1        0      0       0   667    155   505   1627  \n",
       "1     0      2        0      0       0   193   1018  2780    688  \n",
       "2     0      1        0      0       0   565    187  2168   1413  \n",
       "3     0      1        0      0       0   521    155  2992   2951  \n",
       "4     0      2        0      0       0   353    924  3251    676  \n",
       "\n",
       "[5 rows x 22 columns]"
      ]
     },
     "execution_count": 6,
     "metadata": {},
     "output_type": "execute_result"
    }
   ],
   "source": [
    "# Number of rows\n",
    "num_rows = 10\n",
    "\n",
    "# Generate random data\n",
    "dataFrame = {\n",
    "    'time': np.random.randint(124, 1231, num_rows),\n",
    "    'trt': np.random.randint(0, 3, num_rows),\n",
    "    'age': np.random.randint(12, 62, num_rows),\n",
    "    'wtkg': np.random.randint(44, 142, num_rows),\n",
    "    'hemo': np.random.randint(0, 1, num_rows),\n",
    "    'homo': np.random.randint(0, 1, num_rows),\n",
    "    'drugs': np.random.randint(0, 1, num_rows),\n",
    "    'karnof': np.random.randint(78, 100, num_rows),\n",
    "    'oprior': np.random.randint(0, 1, num_rows),\n",
    "    'z30': np.random.randint(0, 1, num_rows),\n",
    "    'preanti': np.random.randint(0, 2351, num_rows),\n",
    "    'race': np.random.randint(0, 1, num_rows),\n",
    "    'gender': np.random.randint(0, 1, num_rows),\n",
    "    'str2': np.random.randint(0, 1, num_rows),\n",
    "    'strat': np.random.randint(1, 3, num_rows),\n",
    "    'symptom': np.random.randint(0, 1, num_rows),\n",
    "    'treat': np.random.randint(0, 1, num_rows),\n",
    "    'offtrt': np.random.randint(0, 1, num_rows),\n",
    "    'cd40': np.random.randint(115, 716, num_rows),\n",
    "    'cd420': np.random.randint(119, 1104, num_rows),\n",
    "    'cd80': np.random.randint(252, 4922, num_rows),\n",
    "    'cd820': np.random.randint(236, 3055, num_rows),\n",
    "    # 'infected': np.random.randint(0, 1, num_rows)\n",
    "}\n",
    "\n",
    "# Create DataFrame\n",
    "random_data = pd.DataFrame(dataFrame)\n",
    "\n",
    "# Display the first few rows of the DataFrame\n",
    "random_data.head()"
   ]
  },
  {
   "cell_type": "markdown",
   "metadata": {},
   "source": [
    "### **Model Prediction**"
   ]
  },
  {
   "cell_type": "code",
   "execution_count": 9,
   "metadata": {},
   "outputs": [
    {
     "data": {
      "text/plain": [
       "array([1, 1, 1, 0, 1, 0, 1, 1, 1, 1], dtype=int64)"
      ]
     },
     "execution_count": 9,
     "metadata": {},
     "output_type": "execute_result"
    }
   ],
   "source": [
    "# Model Prediction\n",
    "prediction = model_pipeline.predict(random_data)\n",
    "prediction"
   ]
  }
 ],
 "metadata": {
  "kernelspec": {
   "display_name": "base",
   "language": "python",
   "name": "python3"
  },
  "language_info": {
   "codemirror_mode": {
    "name": "ipython",
    "version": 3
   },
   "file_extension": ".py",
   "mimetype": "text/x-python",
   "name": "python",
   "nbconvert_exporter": "python",
   "pygments_lexer": "ipython3",
   "version": "3.9.18"
  }
 },
 "nbformat": 4,
 "nbformat_minor": 2
}
